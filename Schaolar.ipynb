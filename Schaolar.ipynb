{
 "cells": [
  {
   "cell_type": "code",
   "execution_count": 1,
   "id": "a55096fb",
   "metadata": {},
   "outputs": [],
   "source": [
    "import wikipediaapi\n",
    "from IPython.display import Image, display\n",
    "import ipywidgets as widgets\n",
    "from bs4 import BeautifulSoup\n",
    "import re\n",
    "import os\n",
    "import requests\n",
    "import pyttsx3"
   ]
  },
  {
   "cell_type": "code",
   "execution_count": 2,
   "id": "64795b57",
   "metadata": {},
   "outputs": [],
   "source": [
    "def test_voices():\n",
    "    engine = pyttsx3.init()\n",
    "    voices = engine.getProperty('voices')\n",
    "    print({i : voice.name for i, voice in enumerate(voices)})\n",
    "    for i, voice in enumerate(voices):\n",
    "        print(i, voice.name)\n",
    "        if '(' not in voice.name:\n",
    "            engine.setProperty('voice', voice.id)\n",
    "            engine.say(f'I am now Testing the voice of {voice.name}')\n",
    "    engine.runAndWait()"
   ]
  },
  {
   "cell_type": "code",
   "execution_count": 3,
   "id": "01cdcde3",
   "metadata": {},
   "outputs": [],
   "source": [
    "def get_data(request):\n",
    "    wiki_page = wikipediaapi.Wikipedia(user_agent='Schaolar', language = 'en')\n",
    "    page = wiki_page.page(request)\n",
    "\n",
    "    return page\n",
    "\n",
    "def get_image(request, idx = 1):\n",
    "    url = f\"https://www.google.com/search?client=firefox-b-1-d&sca_esv=f6cb87a6dc41573d&q={request}&udm=2&fbs=AIIjpHxU7SXXniUZfeShr2fp4giZ1Y6MJ25_tmWITc7uy4KIeiAkWG4OlBE2zyCTMjPbGmMU8EWskMk2JSE__efdUJ3x-dd8PyEzi5Y9BtPQcYyUv-qqGBKcZRAt6t3qPZ3-iSZ6GtBRrUomyC2rUgS4TDygQfIaiWCtBi0gw2eDDygE9ZsO235rUXAUX4XMOSF0AZ0oNb07blcuzshZNivp14ZK7ZppxA&sa=X&ved=2ahUKEwiw09-G8tqOAxURk4kEHVdoBBcQtKgLKAF6BAgmEAE&biw=1252&bih=1014&dpr=1\" # Google Images URL\n",
    "\n",
    "    response = requests.get(url)\n",
    "    soup = BeautifulSoup(response.text, 'html.parser')\n",
    "\n",
    "    images = soup.find_all('img') \n",
    "    image_data = requests.get(images[idx]['src'])\n",
    "\n",
    "    image_widget1 = widgets.Image(\n",
    "        value=image_data.content,\n",
    "        format='jpg',\n",
    "        layout=widgets.Layout(object_fit = 'contain'))\n",
    "\n",
    "    return image_widget1\n",
    "    "
   ]
  },
  {
   "cell_type": "code",
   "execution_count": 4,
   "id": "e7ac240a",
   "metadata": {},
   "outputs": [],
   "source": [
    "valid_schaolars = ['robot', 'cat', 'hamster', 'angrybot', 'infinity', 'creepy']\n",
    "schaolar_info = {'robot' : (200, 64),\n",
    "                 'cat' : (200, 16), \n",
    "                 'hamster' : (100, 1), \n",
    "                 'angrybot' : (200, 100), \n",
    "                 'infinity' : (200, 47),\n",
    "                 'creepy' : (200, 102)}\n",
    "\n",
    "def get_schaolar(schaolar):\n",
    "    if schaolar == 'user_select':\n",
    "        print(f\"Schaolars: {valid_schaolars}\")\n",
    "\n",
    "    while schaolar not in valid_schaolars:\n",
    "        schaolar = input('Select Schaolar (see list)')\n",
    "        if schaolar not in valid_schaolars:\n",
    "            print(f'Schaolar not in list : {valid_schaolars}')\n",
    "\n",
    "    return schaolar\n",
    "            \n",
    "def get_schaolar_im(schaolar = 'robot'):\n",
    "    with open(f'schaolars/{schaolar}_schaolar.gif', 'rb') as f:\n",
    "        return widgets.Image(value = f.read(), format = 'gif',\n",
    "                             layout=widgets.Layout(object_fit='contain'))"
   ]
  },
  {
   "cell_type": "code",
   "execution_count": 5,
   "id": "5be3f5e4",
   "metadata": {},
   "outputs": [],
   "source": [
    "def ask_schaolar(schaolar = 'robot'):\n",
    "    schaolar = get_schaolar(schaolar)\n",
    "\n",
    "    request = input('What topic do you want to learn about? ')\n",
    "    text = get_data(request).summary\n",
    "\n",
    "    engine = pyttsx3.init()\n",
    "\n",
    "    engine.setProperty('rate', schaolar_info[schaolar][0])\n",
    "    engine.setProperty('volume',1.0)\n",
    "\n",
    "    # VOICE\n",
    "    voices = engine.getProperty('voices')\n",
    "    engine.setProperty('voice', voices[schaolar_info[schaolar][1]].id) \n",
    "\n",
    "    schaolar_im = get_schaolar_im(schaolar)\n",
    "    topic_im = get_image(request, 1)\n",
    "    topic_im2 = get_image(request, 2)\n",
    "\n",
    "    box = widgets.HBox([schaolar_im, topic_im, topic_im2])\n",
    "    display(box)\n",
    "\n",
    "    engine.say(text)\n",
    "    engine.runAndWait()"
   ]
  },
  {
   "cell_type": "code",
   "execution_count": null,
   "id": "afd95b67",
   "metadata": {},
   "outputs": [
    {
     "name": "stdout",
     "output_type": "stream",
     "text": [
      "Schaolars: ['robot', 'cat', 'hamster', 'angrybot', 'infinity', 'creepy']\n"
     ]
    },
    {
     "data": {
      "application/vnd.jupyter.widget-view+json": {
       "model_id": "5ab212344bad4fa3b00478da1980a426",
       "version_major": 2,
       "version_minor": 0
      },
      "text/plain": [
       "HBox(children=(Image(value=b'GIF89a\\xf2\\x01\\xf2\\x01\\xf7\\x00\\x00\\x0e\\t\\r\\x11\\x84\\x99\\x94\\x88#\\x90\\x10\\x08\\x14G-…"
      ]
     },
     "metadata": {},
     "output_type": "display_data"
    }
   ],
   "source": [
    "ask_schaolar('user_select')"
   ]
  }
 ],
 "metadata": {
  "kernelspec": {
   "display_name": "projvenv",
   "language": "python",
   "name": "python3"
  },
  "language_info": {
   "codemirror_mode": {
    "name": "ipython",
    "version": 3
   },
   "file_extension": ".py",
   "mimetype": "text/x-python",
   "name": "python",
   "nbconvert_exporter": "python",
   "pygments_lexer": "ipython3",
   "version": "3.12.4"
  }
 },
 "nbformat": 4,
 "nbformat_minor": 5
}
